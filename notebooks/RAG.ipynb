{
 "cells": [
  {
   "cell_type": "code",
   "execution_count": 63,
   "metadata": {},
   "outputs": [],
   "source": [
    "#!pip install chromadb\n",
    "#!pip install --quiet --upgrade langchain-text-splitters langchain-community langgraph\n",
    "#!pip install -qU \"langchain[openai]\"\n",
    "#!pip install -qU langchain-openai\n",
    "#!pip install -U FlagEmbedding\n",
    "|#!pip install -qU langchain-chroma\n"
   ]
  },
  {
   "cell_type": "code",
   "execution_count": 3,
   "metadata": {},
   "outputs": [],
   "source": [
    "import os\n",
    "import getpass\n",
    "from dotenv import load_dotenv\n",
    "\n",
    "from langchain_openai import ChatOpenAI"
   ]
  },
  {
   "cell_type": "code",
   "execution_count": null,
   "metadata": {},
   "outputs": [],
   "source": [
    "llm_key = getpass.getpass(\"digite sua key: \")"
   ]
  },
  {
   "cell_type": "code",
   "execution_count": 5,
   "metadata": {},
   "outputs": [],
   "source": [
    "load_dotenv()\n",
    "LLM = os.getenv(\"LLM\")\n",
    "# LLM = \"llama-3.3-70b\""
   ]
  },
  {
   "cell_type": "code",
   "execution_count": null,
   "metadata": {},
   "outputs": [],
   "source": [
    "LLM"
   ]
  },
  {
   "cell_type": "code",
   "execution_count": null,
   "metadata": {},
   "outputs": [],
   "source": [
    "llm = ChatOpenAI(openai_api_base=\"llm_url\",\n",
    "                 model = LLM,\n",
    "                 api_key = llm_key, #colocar no env\n",
    "                 temperature=0.0)"
   ]
  },
  {
   "cell_type": "code",
   "execution_count": null,
   "metadata": {},
   "outputs": [],
   "source": [
    "llm.invoke(\"bom dia\")"
   ]
  },
  {
   "cell_type": "markdown",
   "metadata": {},
   "source": [
    "## Test embedding"
   ]
  },
  {
   "cell_type": "code",
   "execution_count": 9,
   "metadata": {},
   "outputs": [],
   "source": [
    "from langchain_core.documents import Document\n",
    "from langchain_openai import OpenAIEmbeddings\n",
    "from langchain_chroma import Chroma #https://python.langchain.com/docs/integrations/vectorstores/chroma/\n",
    "from langchain_community.document_loaders import PyPDFLoader\n",
    "from uuid import uuid4\n",
    "import os"
   ]
  },
  {
   "cell_type": "code",
   "execution_count": null,
   "metadata": {},
   "outputs": [],
   "source": [
    "embeddings = OpenAIEmbeddings(openai_api_base=\"placeholder\",\n",
    "                              model = \"bge-m3\",\n",
    "                              api_key = llm_key)"
   ]
  },
  {
   "cell_type": "code",
   "execution_count": 13,
   "metadata": {},
   "outputs": [],
   "source": [
    "vector_store = Chroma(\n",
    "    collection_name=\"example_collection\",\n",
    "    embedding_function=embeddings,\n",
    "    persist_directory=\"./chroma_db\",  # Where to save data locally, remove if not necessary\n",
    ")"
   ]
  },
  {
   "cell_type": "code",
   "execution_count": 14,
   "metadata": {},
   "outputs": [
    {
     "data": {
      "text/plain": [
       "['bdc88f01-3c0a-4cb9-b9dd-8fc4908e3e9e',\n",
       " '15223582-b896-44d9-bf8a-5faf4ca855ef',\n",
       " 'eb6720d4-8d84-454a-8d56-650b76e5ec49',\n",
       " '8528f29d-ec7e-41ab-8b51-107293628327',\n",
       " '39c945dc-fcfd-48d7-9887-e966f8d06a03',\n",
       " '6e06b654-62f2-4692-99e5-1ae274c11fd9',\n",
       " '1ef28d9e-a104-4915-bb69-0a815eddc67a',\n",
       " '671e32e0-c6eb-4155-b0d6-ce84208e18c0',\n",
       " '341f9193-0d31-4693-a704-420d47308b1d',\n",
       " '36933332-bd82-4100-988f-bb850a9247ae',\n",
       " '6e9afb6e-f214-45f8-94b8-1f9bc96f1077',\n",
       " 'de26601f-4198-4140-898f-e1a581ebca66']"
      ]
     },
     "execution_count": 14,
     "metadata": {},
     "output_type": "execute_result"
    }
   ],
   "source": [
    "docs_dir = \"C:/Users/ass3/PycharmProjects/rag-legislacao-ambiental/data/test\"\n",
    "documents = []\n",
    "document_id = 1\n",
    "\n",
    "for file_name in os.listdir(docs_dir):\n",
    "    if file_name.endswith(\".pdf\"):\n",
    "        file_path = os.path.join(docs_dir, file_name)\n",
    "        loader = PyPDFLoader(file_path)\n",
    "        \n",
    "        async for page in loader.alazy_load():\n",
    "            documents.append(Document(\n",
    "                page_content=page.page_content,\n",
    "                metadata=page.metadata,\n",
    "                id=document_id,\n",
    "            ))\n",
    "            document_id += 1\n",
    "\n",
    "uuids = [str(uuid4()) for _ in range(len(documents))]\n",
    "vector_store.add_documents(documents=documents, ids=uuids)"
   ]
  }
 ],
 "metadata": {
  "kernelspec": {
   "display_name": "base",
   "language": "python",
   "name": "python3"
  },
  "language_info": {
   "codemirror_mode": {
    "name": "ipython",
    "version": 3
   },
   "file_extension": ".py",
   "mimetype": "text/x-python",
   "name": "python",
   "nbconvert_exporter": "python",
   "pygments_lexer": "ipython3",
   "version": "3.11.7"
  }
 },
 "nbformat": 4,
 "nbformat_minor": 2
}
